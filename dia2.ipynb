{
 "cells": [
  {
   "cell_type": "markdown",
   "metadata": {},
   "source": [
    "# Condicionales"
   ]
  },
  {
   "cell_type": "code",
   "execution_count": 29,
   "metadata": {},
   "outputs": [
    {
     "name": "stdout",
     "output_type": "stream",
     "text": [
      "Menor de edad\n"
     ]
    }
   ],
   "source": [
    "edad_laboral = 17\n",
    "\n",
    "if edad_laboral < 18 : \n",
    "    print('Menor de edad')\n",
    "elif edad_laboral > 65:\n",
    "    print('Jubilado')\n",
    "else:\n",
    "    print('Activo laboralmente')"
   ]
  },
  {
   "cell_type": "markdown",
   "metadata": {},
   "source": [
    "## Dos condiciones a la vez"
   ]
  },
  {
   "cell_type": "code",
   "execution_count": 30,
   "metadata": {},
   "outputs": [
    {
     "name": "stdout",
     "output_type": "stream",
     "text": [
      "Activo laboralmente\n"
     ]
    }
   ],
   "source": [
    "edad_laboral = 20\n",
    "trabaja = True\n",
    "\n",
    "if edad_laboral < 18: \n",
    "    print('Estudiante menor de edad')\n",
    "elif edad_laboral < 65 and trabaja == True:\n",
    "    print('Activo laboralmente')\n",
    "elif edad_laboral < 65 and trabaja == False:\n",
    "    print('Estudiante')\n",
    "else:\n",
    "    print('Jubilado')"
   ]
  },
  {
   "cell_type": "markdown",
   "metadata": {},
   "source": [
    "## Condición dentro de una funcion"
   ]
  },
  {
   "cell_type": "code",
   "execution_count": 31,
   "metadata": {},
   "outputs": [
    {
     "name": "stdout",
     "output_type": "stream",
     "text": [
      "No puede comprar alcohol\n",
      "Estudiante menor de edad\n",
      "Estudiante\n",
      "Jubilado\n"
     ]
    }
   ],
   "source": [
    "def checkear_si_es_menor_de_edad(edad):\n",
    "    es_menor_de_edad = edad < 18\n",
    "\n",
    "    return es_menor_de_edad\n",
    "\n",
    "def chequear_edad_laboral(edad, trabaja):\n",
    "    es_menor_de_edad = checkear_si_es_menor_de_edad(edad)\n",
    "    if es_menor_de_edad: \n",
    "        print('Estudiante menor de edad')\n",
    "    elif edad < 65 and trabaja == True:\n",
    "        print('Activo laboralmente')\n",
    "    elif edad < 65 and trabaja == False:\n",
    "        print('Estudiante')\n",
    "    else:\n",
    "        print('Jubilado')\n",
    "\n",
    "\n",
    "def checkear_si_puede_comprar_alcohol(otra_edad):\n",
    "    es_menor_de_edad = checkear_si_es_menor_de_edad(otra_edad)\n",
    "    if es_menor_de_edad:\n",
    "        print(\"No puede comprar alcohol\")\n",
    "    else:\n",
    "        print(\"Si puede comprar alcohol\")\n",
    "\n",
    "checkear_si_puede_comprar_alcohol(16)\n",
    "\n",
    "chequear_edad_laboral(17, True)\n",
    "chequear_edad_laboral(50, False)\n",
    "chequear_edad_laboral(80, False)\n"
   ]
  },
  {
   "cell_type": "markdown",
   "metadata": {},
   "source": [
    "### Ejercicio\n",
    "\n",
    "Escribir un programa en el que se pregunte al usuario por una temperatura (en grados Celsius), imprima la temperatura escrita, y luego clasificar la temperatura ingresada en 3 niveles:\n",
    "\n",
    "1. Entre `-10` y `18` grados, que imprima \"Fresquete\".\n",
    "2. Entre `19` y `30` grados, que imprima \"Calor'i\".\n",
    "3. Entre `31` y `45` grados, que imprima \"Hakuuuuuu\".\n",
    "4. Para todo lo demás, imprimir \"Ñamano mba'e!\"."
   ]
  },
  {
   "cell_type": "code",
   "execution_count": 36,
   "metadata": {},
   "outputs": [
    {
     "name": "stdout",
     "output_type": "stream",
     "text": [
      "La temperatura es 10 grados Celsius, Fresquete\n"
     ]
    }
   ],
   "source": [
    "# Solución de un/a participante\n",
    "\n",
    "def funcion(temperatura):\n",
    "    #CONDICIONALES\n",
    "    if -10 <= temperatura <= 18:\n",
    "        return \"Fresquete\"\n",
    "    elif 18 < temperatura <= 30:\n",
    "        return \"Calorcito\"\n",
    "    elif 30 < temperatura <= 40:\n",
    "        return \"Hakuuuu\"\n",
    "    else:\n",
    "        return \"Namanombata\"\n",
    "\n",
    "def frase():\n",
    "    temperatura = float(input(\"Ingrese la temperatura:\"))\n",
    "    print(\"La temperatura es\", round(temperatura), \"grados Celsius,\",funcion(temperatura))  \n",
    "\n",
    "frase()    "
   ]
  },
  {
   "cell_type": "markdown",
   "metadata": {},
   "source": [
    "---"
   ]
  },
  {
   "cell_type": "markdown",
   "metadata": {},
   "source": [
    "# Proyecto: Wordle en Python"
   ]
  },
  {
   "cell_type": "markdown",
   "metadata": {},
   "source": [
    "## Variables"
   ]
  },
  {
   "cell_type": "code",
   "execution_count": null,
   "metadata": {},
   "outputs": [],
   "source": [
    "palabra = \"serio\"\n",
    "letra1 = \"s\"\n",
    "letra2 = \"z\""
   ]
  },
  {
   "cell_type": "markdown",
   "metadata": {},
   "source": [
    "## Tipos de datos"
   ]
  },
  {
   "cell_type": "code",
   "execution_count": 33,
   "metadata": {},
   "outputs": [
    {
     "name": "stdout",
     "output_type": "stream",
     "text": [
      "[1, 2, 3, 4, 5, 6]\n"
     ]
    }
   ],
   "source": [
    "sol_es_naranja = False\n",
    "sol_es_blanco = True\n",
    "\n",
    "cantidad_de_participantes = 32\n",
    "numeros = [1, 2, 3, 4, 5, 6]\n",
    "print(numeros)"
   ]
  },
  {
   "cell_type": "markdown",
   "metadata": {},
   "source": [
    "## Concatenación"
   ]
  },
  {
   "cell_type": "code",
   "execution_count": 34,
   "metadata": {},
   "outputs": [
    {
     "name": "stdout",
     "output_type": "stream",
     "text": [
      "La palabra ingresada es serio\n",
      "La cantidad de pinguinos hoy es 32\n"
     ]
    }
   ],
   "source": [
    "mensaje1 = \"La palabra ingresada es \" + palabra\n",
    "print(mensaje1)\n",
    "\n",
    "mensaje2 = \"La cantidad de pinguinos hoy es \" + str(cantidad_de_participantes)\n",
    "print(mensaje2)"
   ]
  },
  {
   "cell_type": "markdown",
   "metadata": {},
   "source": [
    "## Operadores lógicos"
   ]
  },
  {
   "cell_type": "code",
   "execution_count": 42,
   "metadata": {},
   "outputs": [
    {
     "name": "stdout",
     "output_type": "stream",
     "text": [
      "False\n",
      "True\n",
      "False\n"
     ]
    }
   ],
   "source": [
    "palabra = \"serio\"\n",
    "caracteres_de_la_palabra = [\"s\", \"e\", \"r\", \"i\", \"o\"]\n",
    "letra1 = \"s\"\n",
    "letra2 = \"z\"\n",
    "\n",
    "letras_son_iguales = letra1 == letra2\n",
    "print(letras_son_iguales)\n",
    "\n",
    "# in\n",
    "\n",
    "letra_existe_en_la_palabra = letra1 in palabra # letra1 existe en palabra\n",
    "\n",
    "\n",
    "otra_letra_existe_en_la_palabra = letra2 in palabra # letra1 existe en palabra\n",
    "\n",
    "\n",
    "print(letra_existe_en_la_palabra)\n",
    "print(otra_letra_existe_en_la_palabra)"
   ]
  },
  {
   "cell_type": "markdown",
   "metadata": {},
   "source": [
    "## Condicionales"
   ]
  },
  {
   "cell_type": "code",
   "execution_count": 43,
   "metadata": {},
   "outputs": [
    {
     "name": "stdout",
     "output_type": "stream",
     "text": [
      "La letra existe en la palabra.\n"
     ]
    }
   ],
   "source": [
    "if letra_existe_en_la_palabra: # letra1 existe en palabra\n",
    "    print(\"La letra existe en la palabra.\")\n",
    "else: # en todo caso (no existe)\n",
    "    print(\"La letra no coinciden.\")"
   ]
  },
  {
   "cell_type": "markdown",
   "metadata": {},
   "source": [
    "## Funciones"
   ]
  },
  {
   "cell_type": "code",
   "execution_count": 44,
   "metadata": {},
   "outputs": [
    {
     "name": "stdout",
     "output_type": "stream",
     "text": [
      "hola mundo\n"
     ]
    }
   ],
   "source": [
    "def imprimir_saludo():\n",
    "    print(\"hola mundo\")\n",
    "\n",
    "imprimir_saludo()"
   ]
  },
  {
   "cell_type": "markdown",
   "metadata": {},
   "source": [
    "# Challenge 1 🤺\n",
    "\n",
    "## Crear una función que imprima la variable `palabra`"
   ]
  },
  {
   "cell_type": "code",
   "execution_count": 37,
   "metadata": {},
   "outputs": [
    {
     "name": "stdout",
     "output_type": "stream",
     "text": [
      "tengo calor\n"
     ]
    }
   ],
   "source": [
    "# Solución de un/a participante\n",
    "\n",
    "def imprimir_palabra():\n",
    "    print(palabra)\n",
    "\n",
    "imprimir_palabra()"
   ]
  },
  {
   "cell_type": "markdown",
   "metadata": {},
   "source": [
    "## Funciones: parámetros y argumentos"
   ]
  },
  {
   "cell_type": "code",
   "execution_count": 55,
   "metadata": {},
   "outputs": [
    {
     "name": "stdout",
     "output_type": "stream",
     "text": [
      "salud\n"
     ]
    }
   ],
   "source": [
    "palabra_ejemplo = \"calor\"\n",
    "# print(palabra_ejemplo)\n",
    "\n",
    "def cambiar_la_palabra_ejemplo(nueva_palabra):\n",
    "    return nueva_palabra\n",
    "\n",
    "palabra_ejemplo = cambiar_la_palabra_ejemplo(\"salud\")\n",
    "print(palabra_ejemplo)"
   ]
  },
  {
   "cell_type": "markdown",
   "metadata": {},
   "source": [
    "# Challenge 2 🤺\n",
    "## Crear una función que reciba dos letras (parámetros) y que verifique si son iguales. Si son iguales, imprimir \"Las letras son iguales\". De lo contrario, imprimir \"Las letras son diferentes\""
   ]
  },
  {
   "cell_type": "code",
   "execution_count": 57,
   "metadata": {},
   "outputs": [
    {
     "name": "stdout",
     "output_type": "stream",
     "text": [
      "Las letras son diferentes\n",
      "Las letras son iguales\n"
     ]
    }
   ],
   "source": [
    "# Solución de un/a participante\n",
    "\n",
    "def comparar_palabras(letrax,letray):\n",
    "    if letrax==letray:\n",
    "        print(\"Las letras son iguales\")\n",
    "    else:\n",
    "        print(\"Las letras son diferentes\")\n",
    "\n",
    "comparar_palabras(\"a\",\"l\")\n",
    "comparar_palabras(\"a\",\"a\")"
   ]
  },
  {
   "cell_type": "markdown",
   "metadata": {},
   "source": [
    "## Funciones: Return"
   ]
  },
  {
   "cell_type": "code",
   "execution_count": 59,
   "metadata": {},
   "outputs": [
    {
     "name": "stdout",
     "output_type": "stream",
     "text": [
      "True\n"
     ]
    }
   ],
   "source": [
    "def verificar_si_las_palabras_coinciden(palabra_a_encontrar, palabra_ingresada):\n",
    "    palabras_son_iguales = palabra_a_encontrar == palabra_ingresada\n",
    "    if palabras_son_iguales:\n",
    "        return True\n",
    "    else:\n",
    "        return False\n",
    "\n",
    "palabras_coinciden = verificar_si_las_palabras_coinciden(\"perro\", \"perro\")\n",
    "print(palabras_coinciden)"
   ]
  },
  {
   "cell_type": "markdown",
   "metadata": {},
   "source": [
    "# Challenge 3 🤺\n",
    "## Crear una función que revise si una palabra contiene una letra. En caso de que la contenga, retornar la letra entre `[]`. De lo contrario, retornar solo la letra."
   ]
  },
  {
   "cell_type": "code",
   "execution_count": 38,
   "metadata": {},
   "outputs": [
    {
     "data": {
      "text/plain": [
       "'[a]'"
      ]
     },
     "execution_count": 38,
     "metadata": {},
     "output_type": "execute_result"
    }
   ],
   "source": [
    "# Solución de un/a participante\n",
    "\n",
    "def buscarletra(palabra, letra_buscada):\n",
    "    letra_encontrada = letra_buscada in palabra\n",
    "    if letra_encontrada:\n",
    "        return \"[\" + letra_buscada + \"]\"\n",
    "        # Ejemplo de format\n",
    "        # return \"[{}]\".format(letra_buscada)\n",
    "    else:\n",
    "        return letra_buscada\n",
    "\n",
    "buscarletra(\"casa\",\"a\")"
   ]
  },
  {
   "cell_type": "code",
   "execution_count": 6,
   "metadata": {},
   "outputs": [
    {
     "name": "stdout",
     "output_type": "stream",
     "text": [
      "10\n"
     ]
    }
   ],
   "source": [
    "# Ejemplo de len\n",
    "\n",
    "una_variable = len(\"hola mundo\")\n",
    "\n",
    "print(una_variable)\n"
   ]
  },
  {
   "cell_type": "markdown",
   "metadata": {},
   "source": [
    "# Challenge 4 🤺\n",
    "\n",
    "## Crear una función que reciba dos parámetros (una palabra y un número), y que devuelva `True` si el número es igual a la cantidad de letras de la palabra. En caso contrario, que devuelva `False`."
   ]
  },
  {
   "cell_type": "code",
   "execution_count": 9,
   "metadata": {},
   "outputs": [
    {
     "data": {
      "text/plain": [
       "True"
      ]
     },
     "execution_count": 9,
     "metadata": {},
     "output_type": "execute_result"
    }
   ],
   "source": [
    "# Solución de un/a participante\n",
    "\n",
    "def numero_de_palabra(numerox, palabray):\n",
    "    numero_encontrado = len(palabray)\n",
    "    if numero_encontrado == numerox:\n",
    "        return True\n",
    "    else:\n",
    "        return False\n",
    "\n",
    "numero_de_palabra(11, \"computadora\")"
   ]
  },
  {
   "cell_type": "code",
   "execution_count": 12,
   "metadata": {},
   "outputs": [
    {
     "data": {
      "text/plain": [
       "False"
      ]
     },
     "execution_count": 12,
     "metadata": {},
     "output_type": "execute_result"
    }
   ],
   "source": [
    "# Solución de un/a participante\n",
    "\n",
    "def comparar_palabra (palabra,numero):\n",
    "    return len(palabra) == numero\n",
    "\n",
    "comparar_palabra('almohada',3)"
   ]
  },
  {
   "cell_type": "markdown",
   "metadata": {},
   "source": [
    "## Funciones built-in"
   ]
  },
  {
   "cell_type": "code",
   "execution_count": 18,
   "metadata": {},
   "outputs": [
    {
     "name": "stdout",
     "output_type": "stream",
     "text": [
      "hello\n",
      "hola\n",
      "11\n",
      "Este es un numero10\n"
     ]
    }
   ],
   "source": [
    "print(\"hello\")\n",
    "\n",
    "saludo = input(\"Decime hola\")\n",
    "print(saludo)\n",
    "\n",
    "frase = \"tengo calor\"\n",
    "print(len(frase))\n",
    "\n",
    "numero = 10\n",
    "print(\"Este es un numero \" + str(numero))"
   ]
  },
  {
   "cell_type": "code",
   "execution_count": 20,
   "metadata": {},
   "outputs": [
    {
     "name": "stdout",
     "output_type": "stream",
     "text": [
      "calor\n",
      "color\n",
      "['c', 'a', 'l', 'o', 'r']\n",
      "['c', 'o', 'l', 'o', 'r']\n"
     ]
    }
   ],
   "source": [
    "palabra_a_encontrar = input(\"Ingrese una palabra: \")\n",
    "print(palabra_a_encontrar)\n",
    "\n",
    "palabra_ingresada = input(\"Ingrese otra palabra: \")\n",
    "print(palabra_ingresada)\n",
    "\n",
    "lista_de_letras_de_la_palabra_a_encontrar = list(palabra_a_encontrar)\n",
    "lista_de_letras_de_la_palabra_ingresada = list(palabra_ingresada)\n",
    "\n",
    "print(lista_de_letras_de_la_palabra_a_encontrar)\n",
    "print(lista_de_letras_de_la_palabra_ingresada)"
   ]
  },
  {
   "cell_type": "markdown",
   "metadata": {},
   "source": [
    "## Listas"
   ]
  },
  {
   "cell_type": "code",
   "execution_count": 26,
   "metadata": {},
   "outputs": [
    {
     "name": "stdout",
     "output_type": "stream",
     "text": [
      "['peras', True, 3.14]\n",
      "naranjas\n",
      "kiwis\n",
      "4\n",
      "['naranjas', 'peras', 'kiwis', 'sandias', 'ciruelas']\n",
      "['naranjas', 'peras', 'kiwis', 'sandias', 'ciruelas', 'pelones']\n"
     ]
    }
   ],
   "source": [
    "lista_de_frutas = [\"naranjas\", \"peras\", \"kiwis\", \"sandias\"]\n",
    "\n",
    "# Diferentes tipos de datos en una lista\n",
    "lista_bool = [True, False, False, True]\n",
    "lista_de_numeros = [1, 2, 3.14, 4, 5]\n",
    "lista_variada = [\"peras\", True, 3.14]\n",
    "\n",
    "print(lista_variada)\n",
    "\n",
    "# Acceder a los items de la lista\n",
    "print(lista_de_frutas[0])\n",
    "print(lista_de_frutas[2])\n",
    "\n",
    "# Contar los items de una lista\n",
    "print(len(lista_de_frutas))\n",
    "\n",
    "# Añadir un item a la lista\n",
    "lista_de_frutas.append(\"ciruelas\")\n",
    "print(lista_de_frutas)\n",
    "lista_de_frutas.append(\"pelones\")\n",
    "print(lista_de_frutas)"
   ]
  },
  {
   "cell_type": "code",
   "execution_count": 29,
   "metadata": {},
   "outputs": [
    {
     "name": "stdout",
     "output_type": "stream",
     "text": [
      "['Alex']\n",
      "['Alex', 'salir']\n"
     ]
    }
   ],
   "source": [
    "# Declarar lista vacía\n",
    "\n",
    "diccionario_de_palabras = []\n",
    "\n",
    "# Agregar palabra\n",
    "diccionario_de_palabras.append(\"Alex\")\n",
    "\n",
    "print(diccionario_de_palabras)\n",
    "\n",
    "nueva_palabra = input(\"ayudame por favor\")\n",
    "\n",
    "diccionario_de_palabras.append(nueva_palabra)\n",
    "\n",
    "print(diccionario_de_palabras)\n",
    "\n"
   ]
  },
  {
   "cell_type": "code",
   "execution_count": 35,
   "metadata": {},
   "outputs": [
    {
     "name": "stdout",
     "output_type": "stream",
     "text": [
      "['Evelyn']\n",
      "['Evelyn', 'Alcides']\n",
      "['Evelyn', 'Alcides', 'Stefany']\n",
      "['Evelyn', 'Alcides', 'Stefany', 'Ivana']\n",
      "hola Evelyn\n",
      "chau Ivana\n"
     ]
    }
   ],
   "source": [
    "lista_de_alumnos = []\n",
    "\n",
    "lista_de_alumnos.append(\"Evelyn\")\n",
    "print(lista_de_alumnos)\n",
    "lista_de_alumnos.append(\"Alcides\")\n",
    "print(lista_de_alumnos)\n",
    "lista_de_alumnos.append(\"Stefany\")\n",
    "print(lista_de_alumnos)\n",
    "lista_de_alumnos.append(\"Ivana\")\n",
    "print(lista_de_alumnos)\n",
    "\n",
    "print(\"hola\", lista_de_alumnos[0])\n",
    "print(\"chau\", lista_de_alumnos[3])"
   ]
  }
 ],
 "metadata": {
  "interpreter": {
   "hash": "aee8b7b246df8f9039afb4144a1f6fd8d2ca17a180786b69acc140d282b71a49"
  },
  "kernelspec": {
   "display_name": "Python 3.9.10 64-bit",
   "language": "python",
   "name": "python3"
  },
  "language_info": {
   "codemirror_mode": {
    "name": "ipython",
    "version": 3
   },
   "file_extension": ".py",
   "mimetype": "text/x-python",
   "name": "python",
   "nbconvert_exporter": "python",
   "pygments_lexer": "ipython3",
   "version": "3.9.10"
  },
  "orig_nbformat": 4
 },
 "nbformat": 4,
 "nbformat_minor": 2
}
