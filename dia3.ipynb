{
 "cells": [
  {
   "cell_type": "markdown",
   "metadata": {},
   "source": [
    "# Breve repaso de listas"
   ]
  },
  {
   "cell_type": "code",
   "execution_count": 10,
   "metadata": {},
   "outputs": [
    {
     "name": "stdout",
     "output_type": "stream",
     "text": [
      "['negro', 'azul']\n",
      "['negro', 'azul', 'rojo']\n",
      "azul\n",
      "['negro', 'azul', 'rojo', 1]\n",
      "['negro', 'azul', 'rojo', 1, ['Alcides', 'Eve']]\n",
      "['Alcides', 'Eve']\n",
      "Alcides\n"
     ]
    }
   ],
   "source": [
    "lista_de_colores = [\"negro\"]\n",
    "\n",
    "lista_de_colores.append(\"azul\")\n",
    "\n",
    "print(lista_de_colores)\n",
    "\n",
    "lista_de_colores.append(\"rojo\")\n",
    "\n",
    "print(lista_de_colores)\n",
    "\n",
    "print(lista_de_colores[1])\n",
    "\n",
    "lista_de_colores.append(1)\n",
    "\n",
    "print(lista_de_colores)\n",
    "\n",
    "lista_de_alumnos = [\"Alcides\", \"Eve\"]\n",
    "\n",
    "lista_de_colores.append(lista_de_alumnos)\n",
    "\n",
    "print(lista_de_colores)\n",
    "\n",
    "print(lista_de_colores[4])\n",
    "\n",
    "print(lista_de_colores[4][0])"
   ]
  },
  {
   "cell_type": "markdown",
   "metadata": {},
   "source": [
    "## Ejercicio\n",
    "\n",
    "### Crear una lista de integrantes de la mesa.\n",
    "### Imprimir : Integrante 1: Pedro; Integrante 2: Eve..."
   ]
  },
  {
   "cell_type": "code",
   "execution_count": 12,
   "metadata": {},
   "outputs": [
    {
     "name": "stdout",
     "output_type": "stream",
     "text": [
      "Integrante numero 1: Estrella\n",
      "Integrante numero 2: Marcelo\n",
      "Integrante numero 3: Liz\n",
      "Integrante numero 4: Carlos\n",
      "Integrante numero 5: Mario\n",
      "Integrante numero 6: Dario\n",
      "Integrante numero 7: Ivana\n"
     ]
    }
   ],
   "source": [
    "# Solución de un/a participante\n",
    "\n",
    "integrantes = ['Estrella', 'Marcelo','Liz','Carlos','Mario','Dario','Ivana']\n",
    "print(\"Integrante numero 1:\", integrantes[0])\n",
    "print(\"Integrante numero 2:\", integrantes[1])\n",
    "print(\"Integrante numero 3:\", integrantes[2])\n",
    "print(\"Integrante numero 4:\", integrantes[3])\n",
    "print(\"Integrante numero 5:\", integrantes[4])\n",
    "print(\"Integrante numero 6:\", integrantes[5])\n",
    "print(\"Integrante numero 7:\", integrantes[6])\n",
    "\n",
    "\n",
    "\n"
   ]
  },
  {
   "cell_type": "markdown",
   "metadata": {},
   "source": [
    "## Challenge 🤺\n",
    "\n",
    "### Pedir al usuario que ingrese 1 palabra, luego convertir esa palabra a una lista con sus caracteres: `list()`.Agregar esa lista de caracteres a una lista llamada `palabras_ingresadas`. Repetir el proceso 3 veces. Cada vez que se agregue una lista de caracteres, imprimir la lista `palabras_ingresadas`."
   ]
  },
  {
   "cell_type": "code",
   "execution_count": 13,
   "metadata": {},
   "outputs": [
    {
     "name": "stdout",
     "output_type": "stream",
     "text": [
      "[['g', 'a', 't', 'o']]\n",
      "[['g', 'a', 't', 'o'], ['p', 'e', 'r', 'r', 'o']]\n",
      "[['g', 'a', 't', 'o'], ['p', 'e', 'r', 'r', 'o'], ['e', 'l', 'e', 'f', 'a', 'n', 't', 'e']]\n"
     ]
    }
   ],
   "source": [
    "# Solución de un/a participante\n",
    "\n",
    "palabra1 = input('Ingresa una palabra')\n",
    "palabra1 = list(palabra1)\n",
    "palabras_ingresadas = []\n",
    "palabras_ingresadas.append(palabra1)\n",
    "print(palabras_ingresadas)\n",
    "\n",
    "palabra2 = input('Ingresa una palabra')\n",
    "palabra2 = list(palabra2)\n",
    "palabras_ingresadas.append(palabra2)\n",
    "print(palabras_ingresadas)\n",
    "\n",
    "palabra3 = input('Ingresa una palabra')\n",
    "palabra3 = list(palabra3)\n",
    "palabras_ingresadas.append(palabra3)\n",
    "print(palabras_ingresadas)"
   ]
  },
  {
   "cell_type": "code",
   "execution_count": 15,
   "metadata": {},
   "outputs": [
    {
     "name": "stdout",
     "output_type": "stream",
     "text": [
      "['s', 'e', 'r', 'i', 'o']\n",
      "['s', 'e', 'r', 'i', 'o']\n",
      "['s', 'e', 'r', 'i', 'o']\n",
      "[['s', 'e', 'r', 'i', 'o'], ['s', 'e', 'r', 'i', 'o'], ['s', 'e', 'r', 'i', 'o']]\n"
     ]
    }
   ],
   "source": [
    "# Solución de un/a participante\n",
    "\n",
    "palabras_ingresadas=[]\n",
    "\n",
    "def agregar_palabras():\n",
    "    palabras_ingresadas.append(list(input(\"Escriba palabra\")))\n",
    "    print(palabras_ingresadas[0])\n",
    "    palabras_ingresadas.append(list(input(\"Escriba palabra\")))\n",
    "    print(palabras_ingresadas[1])\n",
    "    palabras_ingresadas.append(list(input(\"Escriba palabra\")))\n",
    "    print(palabras_ingresadas[2])\n",
    "    print(palabras_ingresadas)\n",
    "\n",
    "agregar_palabras()"
   ]
  },
  {
   "cell_type": "markdown",
   "metadata": {},
   "source": [
    "# Bucles\n",
    "\n",
    "## Bucle iterativo: `for`"
   ]
  },
  {
   "cell_type": "code",
   "execution_count": 29,
   "metadata": {},
   "outputs": [
    {
     "name": "stdout",
     "output_type": "stream",
     "text": [
      "g\n",
      "a\n",
      "t\n",
      "o\n"
     ]
    }
   ],
   "source": [
    "palabra = input(\"Introduzca una palabra: \")\n",
    "\n",
    "for letra in palabra: # por cada letra en palabra, imprimir cada letra\n",
    "    print(letra)"
   ]
  },
  {
   "cell_type": "code",
   "execution_count": 27,
   "metadata": {},
   "outputs": [
    {
     "name": "stdout",
     "output_type": "stream",
     "text": [
      "Lista de compras\n",
      "- Pan\n",
      "- Mantequilla\n",
      "- Arandanos\n",
      "- Miel\n"
     ]
    }
   ],
   "source": [
    "lista_de_compras = [\"Pan\", \"Mantequilla\", \"Arandanos\", \"Miel\"]\n",
    "\n",
    "print(\"Lista de compras\")\n",
    "for producto in lista_de_compras:\n",
    "    print(\"-\", producto)"
   ]
  },
  {
   "cell_type": "code",
   "execution_count": 36,
   "metadata": {},
   "outputs": [
    {
     "name": "stdout",
     "output_type": "stream",
     "text": [
      "Steven mi rey tqm\n",
      "Steven mi rey tqm\n",
      "Steven mi rey tqm\n",
      "Steven mi rey tqm\n",
      "Steven mi rey tqm\n",
      "Steven mi rey tqm\n"
     ]
    }
   ],
   "source": [
    "rango = len(\"Steven\")\n",
    "\n",
    "for frase in range(rango):\n",
    "    print(\"Steven mi rey tqm\")"
   ]
  },
  {
   "cell_type": "markdown",
   "metadata": {},
   "source": [
    "## Ejercicio\n",
    "\n",
    "### Escribir un programa en el que se pregunte al usuario por una frase y una letra, y muestre por pantalla el número de veces que aparece la letra en la frase."
   ]
  },
  {
   "cell_type": "code",
   "execution_count": 44,
   "metadata": {},
   "outputs": [
    {
     "name": "stdout",
     "output_type": "stream",
     "text": [
      "0\n"
     ]
    }
   ],
   "source": [
    "# Solución de un/a participante\n",
    "\n",
    "frase_usuario = input('Ingrese una frase o palabra')\n",
    "letra_usuario = input('Ingrese una letra')\n",
    "contador = 0\n",
    "\n",
    "for letra in frase_usuario:\n",
    "    if letra_usuario == letra:\n",
    "    # if x in letra_usuario\n",
    "        contador = contador + 1\n",
    "\n",
    "print(contador)"
   ]
  },
  {
   "cell_type": "markdown",
   "metadata": {},
   "source": [
    "## Bucle condicional: `while`"
   ]
  },
  {
   "cell_type": "code",
   "execution_count": 48,
   "metadata": {},
   "outputs": [],
   "source": [
    "numero = 0\n",
    "este_numero_no_sea_cero = numero != 0\n",
    "\n",
    "while numero != 0:\n",
    "    numero = int(input(\"Introduce un numero: \"))\n",
    "    print(numero)"
   ]
  },
  {
   "cell_type": "code",
   "execution_count": 51,
   "metadata": {},
   "outputs": [
    {
     "name": "stdout",
     "output_type": "stream",
     "text": [
      "up\n",
      "up\n",
      "up\n",
      "salir\n"
     ]
    }
   ],
   "source": [
    "while True:\n",
    "    frase = input(\"Introduce algo: \")\n",
    "    if frase == \"salir\":\n",
    "        print(frase)\n",
    "        break\n",
    "    print(frase)"
   ]
  },
  {
   "cell_type": "markdown",
   "metadata": {},
   "source": [
    "## Ejercicio\n",
    "\n",
    "### Escribir un programa que almacene una palabra (texto) en una variable, y pregunte al usuario por una palabra hasta que introduzca la palabra correcta a adivinar."
   ]
  },
  {
   "cell_type": "code",
   "execution_count": 53,
   "metadata": {},
   "outputs": [
    {
     "name": "stdout",
     "output_type": "stream",
     "text": [
      "Volve a intertarlo kape, te queda 4\n",
      "Volve a intertarlo kape, te queda 3\n",
      "Volve a intertarlo kape, te queda 2\n",
      "Volve a intertarlo kape, te queda 1\n",
      "Volve a intertarlo kape, te queda 0\n",
      "Volve a intertarlo kape, te queda -1\n",
      "Volve a intertarlo kape, te queda -2\n",
      "Volve a intertarlo kape, te queda -3\n",
      "Volve a intertarlo kape, te queda -4\n",
      "Volve a intertarlo kape, te queda -5\n",
      "Volve a intertarlo kape, te queda -6\n",
      "Volve a intertarlo kape, te queda -7\n",
      "Volve a intertarlo kape, te queda -8\n",
      "Ganaste Campeon/a!!!\n"
     ]
    }
   ],
   "source": [
    "# Solución de un/a participante\n",
    "\n",
    "def adivina_la_palabra():\n",
    "    intentos = 5\n",
    "    while True:\n",
    "        palabra_elegida = \"perro\"\n",
    "        palabra_de_usuario = input(\"Introduzca una palabra\")\n",
    "        if palabra_de_usuario == palabra_elegida:\n",
    "            print(\"Ganaste Campeon/a!!!\")\n",
    "            break\n",
    "        else:\n",
    "            intentos = intentos -1 \n",
    "            print(\"Volve a intertarlo kape, te queda\", intentos)\n",
    "\n",
    "\n",
    "adivina_la_palabra()"
   ]
  },
  {
   "cell_type": "code",
   "execution_count": 55,
   "metadata": {},
   "outputs": [
    {
     "name": "stdout",
     "output_type": "stream",
     "text": [
      "Fallaste :(\n"
     ]
    }
   ],
   "source": [
    "# Solución de un/a participante\n",
    "\n",
    "palabra = \"serio\"\n",
    "contador = 0\n",
    "intentos = 3\n",
    "usuario = input(\"Introduce una palabra\")\n",
    "while True:\n",
    "    contador = contador + 1\n",
    "    intentos = intentos - 1\n",
    "    if palabra == usuario:\n",
    "        print(\"Respuesta correcta. Intento\", contador)\n",
    "        break\n",
    "    if intentos == 0:\n",
    "        print(\"Fallaste :(\")\n",
    "        break\n",
    "    usuario = input (\"Intente de nuevo. Te quedan {} intentos\".format(intentos))\n",
    "\n"
   ]
  },
  {
   "cell_type": "markdown",
   "metadata": {},
   "source": [
    "---"
   ]
  },
  {
   "cell_type": "markdown",
   "metadata": {},
   "source": [
    "# Continuación: Wordle"
   ]
  },
  {
   "cell_type": "code",
   "execution_count": 58,
   "metadata": {},
   "outputs": [],
   "source": [
    "# Crear una lista vacía para el resultado.\n",
    "# Definir la cantidad de letras de la palabra a encontrar\n",
    "# Si las letras existen en la palabra a encontrar y sus posiciones coinciden: Encerrarlas en [] y agregar al resultado.\n",
    "# Si las letras existen en la palabra a encontrar pero sus posiciones no coinciden: Encerrarlas en () y agregar al resultado.\n",
    "# Si no se cumple ninguna de las anteriores, agregar al resultado sin hacer modificaciones.\n",
    "# Retornar el resultado.\n",
    "\n",
    "def obtener_fila_verificada(letras_de_la_palabra_a_encontrar, letras_de_la_palabra_ingresada):\n",
    "\n",
    "    # Definir la cantidad de letras de la palabra a encontrar\n",
    "    cantidad_de_letras_de_palabra_a_encontrar = 5\n",
    "\n",
    "    # Creamos una lista vacía para almacenar el resultado de una linea\n",
    "    resultado = [] \n",
    "\n",
    "    # Iteramos por cada letra de la palabra ingresada\n",
    "    for posicion_de_la_letra in range(cantidad_de_letras_de_palabra_a_encontrar):\n",
    "\n",
    "        letra_a_verificar = letras_de_la_palabra_ingresada[posicion_de_la_letra]\n",
    "\n",
    "        # Si las letras existen en la palabra a encontrar y sus posiciones coinciden: Encerrarlas en [] y agregar al resultado.\n",
    "        las_letras_son_iguales = letras_de_la_palabra_a_encontrar[posicion_de_la_letra] == letra_a_verificar\n",
    "\n",
    "        # Si las letras existen en la palabra a encontrar pero sus posiciones no coinciden: Encerrarlas en () y agregar al resultado.\n",
    "        la_letra_existe_en_la_palabra_a_encontrar = letra_a_verificar in letras_de_la_palabra_a_encontrar\n",
    "\n",
    "        if las_letras_son_iguales:\n",
    "\n",
    "            # Guardar las letras que están en la palabra a encontrar y coinciden en la posición, dentro de brackets\n",
    "            resultado.append(\"[\" + letra_a_verificar + \"]\")\n",
    "\n",
    "        elif la_letra_existe_en_la_palabra_a_encontrar:\n",
    "\n",
    "            # Guardar las letras que no coinciden pero que están en la palabra a encontrar, dentro de parentesis\n",
    "            resultado.append(\"(\" + letra_a_verificar + \")\")\n",
    "        \n",
    "        else:\n",
    "\n",
    "            resultado.append(letra_a_verificar)\n",
    "\n",
    "    return resultado"
   ]
  },
  {
   "cell_type": "markdown",
   "metadata": {},
   "source": [
    "## Probamos nuestra función y rezamos para que funcione"
   ]
  },
  {
   "cell_type": "code",
   "execution_count": 63,
   "metadata": {},
   "outputs": [
    {
     "name": "stdout",
     "output_type": "stream",
     "text": [
      "['a', 'r', 'k', 'a', 's']\n"
     ]
    }
   ],
   "source": [
    "lista_de_letras_de_la_palabra_a_encontrar = list(\"cielo\")\n",
    "lista_de_letras_de_la_palabra_ingresada = list(\"arkas\")\n",
    "\n",
    "linea_verificada = obtener_fila_verificada(lista_de_letras_de_la_palabra_a_encontrar, lista_de_letras_de_la_palabra_ingresada)\n",
    "\n",
    "print(linea_verificada)"
   ]
  },
  {
   "cell_type": "markdown",
   "metadata": {},
   "source": [
    "## Challenge 6 🤺\n",
    "\n",
    "### Imprimir una grilla: Crear una función que imprima una grilla (lista de listas), una linea por cada lista dentro de la lista principal"
   ]
  },
  {
   "cell_type": "code",
   "execution_count": 68,
   "metadata": {},
   "outputs": [
    {
     "name": "stdout",
     "output_type": "stream",
     "text": [
      "['c', 'o', 'l', 'o', 'r']\n",
      "['s', 'a', 'l', 'u', 'd']\n",
      "['c', 'o', 's', 't', 'a']\n",
      "['c', 'e', 'n', 'a', 'r']\n",
      "['c', 'o', 'm', 'e', 'r']\n",
      "['k', 'o', 'l', 'o', 'r']\n",
      "['s', 'a', 'l', 'u', 'd']\n",
      "['c', 'o', 's', 't', 'a']\n",
      "['c', 'e', 'n', 'a', 'r']\n",
      "['c', 'o', 'm', 'e', 'r']\n"
     ]
    }
   ],
   "source": [
    "nuestra_grilla = [[\"c\", \"o\", \"l\", \"o\", \"r\"], [\"s\", \"a\", \"l\", \"u\", \"d\"], [\"c\", \"o\", \"s\", \"t\", \"a\"], [\"c\", \"e\", \"n\", \"a\", \"r\"], [\"c\", \"o\", \"m\", \"e\", \"r\"]]\n",
    "nuestra_grilla2 = [[\"k\", \"o\", \"l\", \"o\", \"r\"], [\"s\", \"a\", \"l\", \"u\", \"d\"], [\"c\", \"o\", \"s\", \"t\", \"a\"], [\"c\", \"e\", \"n\", \"a\", \"r\"], [\"c\", \"o\", \"m\", \"e\", \"r\"]]\n",
    "\n",
    "def imprimir_grilla(grilla):\n",
    "    for fila in grilla:\n",
    "        print(fila)\n",
    "\n",
    "imprimir_grilla(nuestra_grilla)\n",
    "imprimir_grilla(nuestra_grilla2)"
   ]
  },
  {
   "cell_type": "code",
   "execution_count": null,
   "metadata": {},
   "outputs": [],
   "source": [
    "# Intentos\n",
    "\n",
    "intentos = 3\n",
    "\n",
    "while intentos > 0:\n",
    "    print(\"Te quedan\", intentos, \"intentos.\")\n",
    "    palabra = input(\"Ingrese una palabra: \")\n",
    "    intentos = intentos - 1\n",
    "    print(palabra)\n",
    "    "
   ]
  },
  {
   "cell_type": "code",
   "execution_count": 69,
   "metadata": {},
   "outputs": [
    {
     "name": "stdout",
     "output_type": "stream",
     "text": [
      "Bienvenido a Wordle!\n",
      "Te quedan 6 intentos.\n"
     ]
    },
    {
     "name": "stderr",
     "output_type": "stream",
     "text": [
      "sh: cls: command not found\n"
     ]
    },
    {
     "name": "stdout",
     "output_type": "stream",
     "text": [
      "['[c]', '[a]', '[l]', '[o]', '[r]']\n",
      "Felicidades, ganaste. 🎉\n"
     ]
    },
    {
     "name": "stderr",
     "output_type": "stream",
     "text": [
      "sh: cls: command not found\n"
     ]
    }
   ],
   "source": [
    "# Proyecto Wordle\n",
    "\n",
    "import os\n",
    "\n",
    "def verificar_palabra_ingresada(letras_de_la_palabra_a_encontrar, letras_de_la_palabra_ingresada):\n",
    "\n",
    "    resultado = []\n",
    "\n",
    "    for posicion_de_la_letra in range(0, cantidad_de_letras):\n",
    "\n",
    "        las_letras_son_iguales = letras_de_la_palabra_a_encontrar[posicion_de_la_letra] == letras_de_la_palabra_ingresada[posicion_de_la_letra]\n",
    "\n",
    "        la_letra_existe_en_la_palabra_a_encontrar = letras_de_la_palabra_ingresada[posicion_de_la_letra] in letras_de_la_palabra_a_encontrar\n",
    "        \n",
    "        if las_letras_son_iguales:\n",
    "            resultado.append('['+ letras_de_la_palabra_ingresada[posicion_de_la_letra] +']')\n",
    "\n",
    "        elif la_letra_existe_en_la_palabra_a_encontrar:\n",
    "            resultado.append('('+ letras_de_la_palabra_ingresada[posicion_de_la_letra] +')')\n",
    "\n",
    "        else:\n",
    "            resultado.append(letras_de_la_palabra_ingresada[posicion_de_la_letra])\n",
    "\n",
    "    return resultado\n",
    "\n",
    "\n",
    "def imprimir_grilla(grilla):\n",
    "    cantidad_de_filas = len(grilla)\n",
    "\n",
    "    for fila in range(cantidad_de_filas):\n",
    "        print(grilla[fila])\n",
    "\n",
    "\n",
    "# Ejecución del programa\n",
    "\n",
    "palabra_a_encontrar = \"calor\"\n",
    "cantidad_de_letras = 5\n",
    "intentos = 6\n",
    "\n",
    "grilla = []\n",
    "\n",
    "os.system('cls')\n",
    "print(\"Bienvenido a Wordle!\")\n",
    "\n",
    "while intentos > 0:\n",
    "    print(\"Te quedan\", intentos, \"intentos.\")\n",
    "    palabra_ingresada = input(\"Ingrese una palabra: \")\n",
    "    intentos = intentos - 1\n",
    "\n",
    "    os.system('cls')\n",
    "    \n",
    "    letras_de_la_palabra_ingresada = list(palabra_ingresada)\n",
    "    letras_de_la_palabra_a_encontrar = list(palabra_a_encontrar)\n",
    "\n",
    "    if(len(letras_de_la_palabra_ingresada) != cantidad_de_letras):\n",
    "        print(\"La palabra ingresada no tiene la cantidad de letras correcta.\")\n",
    "        print(\" Ingresar una palabra con\", cantidad_de_letras, \"letras.\")\n",
    "        continue\n",
    "    else:\n",
    "        linea_verificada = verificar_palabra_ingresada(letras_de_la_palabra_a_encontrar, letras_de_la_palabra_ingresada)\n",
    "        grilla.append(linea_verificada)\n",
    "\n",
    "    imprimir_grilla(grilla)\n",
    "    if palabra_ingresada == palabra_a_encontrar:\n",
    "        print(\"Felicidades, ganaste. 🎉\")\n",
    "        break"
   ]
  }
 ],
 "metadata": {
  "interpreter": {
   "hash": "aee8b7b246df8f9039afb4144a1f6fd8d2ca17a180786b69acc140d282b71a49"
  },
  "kernelspec": {
   "display_name": "Python 3.9.10 64-bit",
   "language": "python",
   "name": "python3"
  },
  "language_info": {
   "codemirror_mode": {
    "name": "ipython",
    "version": 3
   },
   "file_extension": ".py",
   "mimetype": "text/x-python",
   "name": "python",
   "nbconvert_exporter": "python",
   "pygments_lexer": "ipython3",
   "version": "3.9.10"
  },
  "orig_nbformat": 4
 },
 "nbformat": 4,
 "nbformat_minor": 2
}
