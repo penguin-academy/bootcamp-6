{
 "cells": [
  {
   "cell_type": "code",
   "execution_count": 1,
   "metadata": {},
   "outputs": [
    {
     "name": "stdout",
     "output_type": "stream",
     "text": [
      "Hola mundo\n"
     ]
    }
   ],
   "source": [
    "print(\"Hola mundo\")"
   ]
  },
  {
   "cell_type": "markdown",
   "metadata": {},
   "source": [
    "# Variables"
   ]
  },
  {
   "cell_type": "code",
   "execution_count": 2,
   "metadata": {},
   "outputs": [
    {
     "name": "stdout",
     "output_type": "stream",
     "text": [
      "10\n"
     ]
    }
   ],
   "source": [
    "numero1 = 10\n",
    "\n",
    "print(numero1)"
   ]
  },
  {
   "cell_type": "markdown",
   "metadata": {},
   "source": [
    "### Ejercicio con \"hola mundo\"\n",
    "\n",
    "Asignamos el texto a la variable `saludo` e imprimos la variable."
   ]
  },
  {
   "cell_type": "code",
   "execution_count": 3,
   "metadata": {},
   "outputs": [
    {
     "name": "stdout",
     "output_type": "stream",
     "text": [
      "hola mundo\n"
     ]
    }
   ],
   "source": [
    "saludo = \"hola mundo\"\n",
    "print(saludo)"
   ]
  },
  {
   "cell_type": "code",
   "execution_count": 87,
   "metadata": {},
   "outputs": [
    {
     "name": "stdout",
     "output_type": "stream",
     "text": [
      "hola mundo\n"
     ]
    }
   ],
   "source": [
    "asd123 = \"hola mundo\"\n",
    "print(asd123)"
   ]
  },
  {
   "cell_type": "markdown",
   "metadata": {},
   "source": [
    "# Tipos de datos"
   ]
  },
  {
   "cell_type": "code",
   "execution_count": 13,
   "metadata": {},
   "outputs": [
    {
     "name": "stdout",
     "output_type": "stream",
     "text": [
      "Enri\n"
     ]
    }
   ],
   "source": [
    "saludo = \"maitei\" # texto -> strings -> cadena de caracteres\n",
    "\n",
    "cantidad = 1 # numero entero -> integer -> int\n",
    "\n",
    "pi = 3.14 # numero decimal -> floating numbers -> floats\n",
    "\n",
    "variable1 = 256\n",
    "\n",
    "variable2 = \"256\"\n",
    "\n",
    "nombre_unico = \"Alex\"\n",
    "nombre_unico = \"Enri\"\n",
    "\n",
    "print(nombre_unico)\n",
    "\n"
   ]
  },
  {
   "cell_type": "markdown",
   "metadata": {},
   "source": [
    "## Operaciones aritmeticas"
   ]
  },
  {
   "cell_type": "code",
   "execution_count": 12,
   "metadata": {},
   "outputs": [
    {
     "name": "stdout",
     "output_type": "stream",
     "text": [
      "24\n",
      "1\n",
      "36\n",
      "5.0\n",
      "9.0\n",
      "9.0\n"
     ]
    }
   ],
   "source": [
    "# Suma\n",
    "print(7 + 8 + 9)\n",
    "\n",
    "# Resta\n",
    "print(10 - 9)\n",
    "\n",
    "# Multiplicacion\n",
    "print(12 * 3)\n",
    "\n",
    "# Division\n",
    "print(10 / 2)\n",
    "\n",
    "# Python obedece a la regla matematica de la precedencia de operadores\n",
    "\n",
    "print(2 * 2 + 12 / 2 - 1)\n",
    "\n",
    "operacion = 2 * 2 + 12 / 2 - 1\n",
    "print(operacion)"
   ]
  },
  {
   "cell_type": "markdown",
   "metadata": {},
   "source": [
    "### Ejercicio\n",
    "\n",
    "1. Suma: asignar dos números en dos variables diferentes `cantidad_de_manzanas` y `cantidad_de_naranjas`. Luego sumar ambas variables en `cantidad_de_frutas`. Imprimir la última variable.\n",
    "\n",
    "2. Resta: asignar un valor numérico a la variable `frutas_comidas`. Luego, asignar la resta entre `cantidad_de_frutas` y `frutas_comidas` a la variable `frutas_restantes`. Imprimir la última variable.\n",
    "\n"
   ]
  },
  {
   "cell_type": "code",
   "execution_count": 16,
   "metadata": {},
   "outputs": [
    {
     "name": "stdout",
     "output_type": "stream",
     "text": [
      "19\n",
      "11\n"
     ]
    }
   ],
   "source": [
    "# Solucion de Miki\n",
    "\n",
    "cantidad_de_manzanas = 9\n",
    "cantidad_de_naranjas = 10\n",
    "cantidad_de_frutas = cantidad_de_manzanas + cantidad_de_naranjas\n",
    "print(cantidad_de_frutas)\n",
    "\n",
    "frutas_comidas = 8\n",
    "frutas_restantes = cantidad_de_frutas - frutas_comidas\n",
    "print(frutas_restantes)"
   ]
  },
  {
   "cell_type": "code",
   "execution_count": 20,
   "metadata": {},
   "outputs": [
    {
     "name": "stdout",
     "output_type": "stream",
     "text": [
      "La cantidad de frutas es: 19\n",
      "La cantidad de frutas restantes es: 11\n"
     ]
    }
   ],
   "source": [
    "# Solucion de Evelyn\n",
    "\n",
    "cantidad_de_manzanas = 9\n",
    "cantidad_de_naranjas = 10\n",
    "cantidad_de_frutas = cantidad_de_manzanas + cantidad_de_naranjas\n",
    "print(\"La cantidad de frutas es:\", cantidad_de_frutas)\n",
    "\n",
    "frutas_comidas = 8\n",
    "frutas_restantes = cantidad_de_frutas - frutas_comidas\n",
    "print(\"La cantidad de frutas restantes es:\", frutas_restantes)"
   ]
  },
  {
   "cell_type": "markdown",
   "metadata": {},
   "source": [
    "### Jugando con texto\n",
    "\n",
    "Las cadenas de caracteres, o texto, son utilizadas al asignarlas a una variable con comillas simples o dobles, indistintamente. Lo importante es que usemos la misma para abrir y cerrar el texto que estamos escribiendo."
   ]
  },
  {
   "cell_type": "code",
   "execution_count": 22,
   "metadata": {},
   "outputs": [
    {
     "name": "stdout",
     "output_type": "stream",
     "text": [
      "Enmanuel\n",
      "Ruffinelli\n"
     ]
    }
   ],
   "source": [
    "nombre = 'Enmanuel'\n",
    "apellido = \"Ruffinelli\"\n",
    "\n",
    "print(nombre)\n",
    "print(apellido)"
   ]
  },
  {
   "cell_type": "markdown",
   "metadata": {},
   "source": [
    "### Sumar textos se llama concatenacion"
   ]
  },
  {
   "cell_type": "code",
   "execution_count": 27,
   "metadata": {},
   "outputs": [
    {
     "name": "stdout",
     "output_type": "stream",
     "text": [
      "Enmanuel Ruffinelli\n",
      "('Enmanuel', 'Ruffinelli')\n"
     ]
    }
   ],
   "source": [
    "# Concatenacion\n",
    "nombre = 'Enmanuel'\n",
    "apellido = \"Ruffinelli\"\n",
    "\n",
    "nombre_completo1 = nombre + \" \" + apellido\n",
    "nombre_completo2 = nombre, apellido\n",
    "\n",
    "print(nombre_completo1)\n",
    "print(nombre_completo2)"
   ]
  },
  {
   "cell_type": "markdown",
   "metadata": {},
   "source": [
    "### Ejercicio\n",
    "\n",
    "1. Asignar el nombre y el apellido de tu compañera/o a las variables `nombre` y `apellido`. Luego, imprimir la siguiente frase, utilizando las variables: \"Hola. Mi nombre es Enmanuel Ruffinelli. Mucho gusto.\""
   ]
  },
  {
   "cell_type": "code",
   "execution_count": 30,
   "metadata": {},
   "outputs": [
    {
     "name": "stdout",
     "output_type": "stream",
     "text": [
      "Hola. Mi nombre es Ivana Mellone. Mucho gusto\n",
      "Hola. Mi nombre es Ivana Mellone. Mucho gusto\n"
     ]
    }
   ],
   "source": [
    "# Solucion de Ivana\n",
    "\n",
    "nombre = \"Ivana\"\n",
    "apellido = \"Mellone\"\n",
    "\n",
    "nombre_completo = \"asd\" # snake case\n",
    "nombreCompleto = \"123\" # camel case\n",
    "\n",
    "# Concatenacion de la frase mas el nombre y el apellido\n",
    "frase1 = \"Hola. Mi nombre es \" + nombre + \" \" + apellido + \". Mucho gusto\"\n",
    "print(frase1)\n",
    "#forma 2\n",
    "nombre_completo = nombre + \" \" + apellido\n",
    "frase2 = \"Hola. Mi nombre es \" + nombre_completo +\". Mucho gusto\"\n",
    "print(frase2)\n"
   ]
  },
  {
   "cell_type": "code",
   "execution_count": 31,
   "metadata": {},
   "outputs": [
    {
     "name": "stdout",
     "output_type": "stream",
     "text": [
      "Hola mi nombre es Michael jordan Mucho gusto\n"
     ]
    }
   ],
   "source": [
    "# Solucion de Mario\n",
    "\n",
    "nombre = \"Michael\"\n",
    "apellido = 'jordan'\n",
    "\n",
    "print(\"Hola mi nombre es\", (nombre + \" \" + apellido ), \"Mucho gusto\")"
   ]
  },
  {
   "cell_type": "code",
   "execution_count": 33,
   "metadata": {},
   "outputs": [
    {
     "name": "stdout",
     "output_type": "stream",
     "text": [
      "hola. mi nombre es  Andrea Morinigo mucho gusto\n"
     ]
    }
   ],
   "source": [
    "# Solucion de Andrea la mas programadora \n",
    "\n",
    "nombre = \"Andrea\"\n",
    "apellido = \"Morinigo\"\n",
    "presentacion_1 = \"hola. mi nombre es \"\n",
    "presentacion_2 = \"mucho gusto\"\n",
    "\n",
    "print (presentacion_1 + \" \" + nombre + \" \" + apellido + \" \" + presentacion_2 \n",
    ")"
   ]
  },
  {
   "cell_type": "markdown",
   "metadata": {},
   "source": [
    "### Obteniendo datos del usuario\n",
    "\n",
    "Podemos utilizar `input()` para pedirle a la persona que ingrese un dato que estemos solicitando."
   ]
  },
  {
   "cell_type": "code",
   "execution_count": 47,
   "metadata": {},
   "outputs": [
    {
     "name": "stdout",
     "output_type": "stream",
     "text": [
      "1\n",
      "2\n",
      "El resultado de esta suma es: 3\n"
     ]
    }
   ],
   "source": [
    "# Primer ingreso de dato\n",
    "primer_numero = input(\"Escriba un numero, por favor: \")\n",
    "primer_numero = int(primer_numero)\n",
    "print(primer_numero)\n",
    "# print(type(primer_numero))\n",
    "\n",
    "# Segundo ingreso\n",
    "segundo_numero = input(\"Escriba otro numero, por favor: \")\n",
    "segundo_numero = int(segundo_numero)\n",
    "print(segundo_numero)\n",
    "# print(type(primer_numero))\n",
    "\n",
    "# Suma de ambas variables\n",
    "suma = primer_numero + segundo_numero\n",
    "suma = str(suma)\n",
    "print(\"El resultado de esta suma es: \" + suma)"
   ]
  },
  {
   "cell_type": "markdown",
   "metadata": {},
   "source": [
    "# Funciones\n",
    "\n",
    "Una función es un bloque de código que tiene asociado un nombre, de manera que cada vez que se quiera ejecutar el bloque de código basta con invocar el nombre de la función. Una función es un bloque de código, al cual asociamos un nombre. Cada vez que queramos utilizar y ejecutar ese bloque de código en particular, lo “llamamos” o invocamos con el nombre de la función."
   ]
  },
  {
   "cell_type": "code",
   "execution_count": 50,
   "metadata": {},
   "outputs": [
    {
     "name": "stdout",
     "output_type": "stream",
     "text": [
      "Buenas tardes, penguins!\n",
      "Chau, penguins!\n"
     ]
    }
   ],
   "source": [
    "# Funcion con texto\n",
    "\n",
    "def mi_funcion():\n",
    "    print(\"Buenas tardes, penguins!\")\n",
    "    print(\"Chau, penguins!\")\n",
    "\n",
    "mi_funcion()"
   ]
  },
  {
   "cell_type": "markdown",
   "metadata": {},
   "source": [
    "## Parametros y argumentos"
   ]
  },
  {
   "cell_type": "code",
   "execution_count": 58,
   "metadata": {},
   "outputs": [
    {
     "name": "stdout",
     "output_type": "stream",
     "text": [
      "Hola. Mi nombre es Rogey soy participante!\n",
      "Hola. Mi nombre es Enri y soy coach en Penguin!\n",
      "Hola. Mi nombre es Alex y soy coach en Penguin!\n"
     ]
    }
   ],
   "source": [
    "def mi_print_de_participantes(nombre):\n",
    "    print(\"Hola. Mi nombre es \" + nombre + \"y soy participante!\")\n",
    "\n",
    "def mi_print_de_coaches(nombre):\n",
    "    print(\"Hola. Mi nombre es \" + nombre + \" y soy coach en Penguin!\")\n",
    "\n",
    "mi_print_de_participantes(\"Roge\")\n",
    "mi_print_de_coaches(\"Enri\")\n",
    "mi_print_de_coaches(\"Alex\")"
   ]
  },
  {
   "cell_type": "code",
   "execution_count": 60,
   "metadata": {},
   "outputs": [
    {
     "name": "stdout",
     "output_type": "stream",
     "text": [
      "Hola Enmanuel. Soy Roge y te doy la bienvenida a Penguin!\n"
     ]
    }
   ],
   "source": [
    "def mi_print_de_bienvenida(nombre_alumno, nombre_coach):\n",
    "    print(\"Hola \" + nombre_alumno + \". Soy \" + nombre_coach + \" y te doy la bienvenida a Penguin!\")\n",
    "\n",
    "mi_print_de_bienvenida(\"Enmanuel\", \"Roge\")"
   ]
  },
  {
   "cell_type": "markdown",
   "metadata": {},
   "source": [
    "### Ejercicio\n",
    "\n",
    "Definir una funcion que tome dos numeros como parametros y los imprima sumandolos"
   ]
  },
  {
   "cell_type": "code",
   "execution_count": 62,
   "metadata": {},
   "outputs": [
    {
     "name": "stdout",
     "output_type": "stream",
     "text": [
      "el resultado es 10\n"
     ]
    }
   ],
   "source": [
    "# Solucion de Hami\n",
    "\n",
    "def suma(numero1, numero2):\n",
    "    print(\"el resultado es \" +str(numero1 + numero2))\n",
    "suma(4, 6)\n"
   ]
  },
  {
   "cell_type": "code",
   "execution_count": 73,
   "metadata": {},
   "outputs": [
    {
     "name": "stdout",
     "output_type": "stream",
     "text": [
      "el resultado es  10\n",
      "el resultado es  -2\n"
     ]
    }
   ],
   "source": [
    "# Solucion de Arami\n",
    "def suma(numero1, numero2):\n",
    "    print(\"el resultado es \" , numero1 + numero2)\n",
    "suma(4, 6)\n",
    "\n",
    "def resta(numero1, numero2):\n",
    "    print(\"el resultado es \" , numero1 - numero2)\n",
    "resta(4, 6)\n"
   ]
  },
  {
   "cell_type": "code",
   "execution_count": 64,
   "metadata": {},
   "outputs": [
    {
     "name": "stdout",
     "output_type": "stream",
     "text": [
      "3\n"
     ]
    }
   ],
   "source": [
    "# Solucion de Carlos\n",
    "\n",
    "def dos_numeros(numero1, numero2):\n",
    "    resultado = (numero1 + numero2)\n",
    "    print(resultado)\n",
    "\n",
    "dos_numeros(1,2)\n"
   ]
  },
  {
   "cell_type": "markdown",
   "metadata": {},
   "source": [
    " ## Función personalizada vs función built-in\n",
    "\n",
    " En Python tenemos una lista de funciones que ya están incluidas y podemos utilizarlas cuando queramos. Es más, ya las estuvimos utilizando con `print()`, `int()`, `input()`..."
   ]
  },
  {
   "cell_type": "code",
   "execution_count": 66,
   "metadata": {},
   "outputs": [
    {
     "data": {
      "text/plain": [
       "42"
      ]
     },
     "execution_count": 66,
     "metadata": {},
     "output_type": "execute_result"
    }
   ],
   "source": [
    "numeros = [12, 20, 10]\n",
    "\n",
    "sum(numeros)"
   ]
  },
  {
   "cell_type": "markdown",
   "metadata": {},
   "source": [
    "## Alcance (scope)"
   ]
  },
  {
   "cell_type": "code",
   "execution_count": 69,
   "metadata": {},
   "outputs": [
    {
     "name": "stdout",
     "output_type": "stream",
     "text": [
      "4000\n",
      "1\n"
     ]
    }
   ],
   "source": [
    "# Alcance local\n",
    "\n",
    "def imprimir_precio():\n",
    "    valor = 4000\n",
    "    print(valor)\n",
    "\n",
    "imprimir_precio()\n",
    "\n",
    "valor = 1\n",
    "print(valor)"
   ]
  },
  {
   "cell_type": "code",
   "execution_count": 74,
   "metadata": {},
   "outputs": [
    {
     "name": "stdout",
     "output_type": "stream",
     "text": [
      "10000\n"
     ]
    }
   ],
   "source": [
    "# Alcance global\n",
    "\n",
    "precio_global = 10000\n",
    "otro_precio = 5000\n",
    "\n",
    "def asd():\n",
    "    print(precio_global)\n",
    "\n",
    "asd()"
   ]
  },
  {
   "cell_type": "markdown",
   "metadata": {},
   "source": [
    "# Condicionales"
   ]
  },
  {
   "cell_type": "code",
   "execution_count": 77,
   "metadata": {},
   "outputs": [
    {
     "name": "stdout",
     "output_type": "stream",
     "text": [
      "Mayor de edad\n"
     ]
    }
   ],
   "source": [
    "edad = 18\n",
    "\n",
    "if edad < 18:\n",
    "    print(\"Menor de edad\")\n",
    "else:\n",
    "    print(\"Mayor de edad\")"
   ]
  },
  {
   "cell_type": "code",
   "execution_count": 80,
   "metadata": {},
   "outputs": [
    {
     "name": "stdout",
     "output_type": "stream",
     "text": [
      "Menor de edad\n"
     ]
    }
   ],
   "source": [
    "edad_laboral = 10\n",
    "\n",
    "if edad_laboral < 18:\n",
    "    print(\"Menor de edad\")\n",
    "elif edad_laboral > 65:\n",
    "    print(\"Jubilado\")\n",
    "else:\n",
    "    print(\"Activo laboralmente\")"
   ]
  },
  {
   "cell_type": "code",
   "execution_count": 86,
   "metadata": {},
   "outputs": [
    {
     "name": "stdout",
     "output_type": "stream",
     "text": [
      "Estudiante menor de edad\n"
     ]
    }
   ],
   "source": [
    "# Tipo de dato: Bool / booleano\n",
    "\n",
    "edad_laboral = 1\n",
    "trabaja = True\n",
    "\n",
    "if edad_laboral < 18:\n",
    "    print(\"Estudiante menor de edad\")\n",
    "elif edad_laboral < 65 and trabaja == True:\n",
    "    print(\"Activo laboralmente\")\n",
    "elif edad_laboral < 65 and trabaja == False:\n",
    "    print(\"Estudiante\")\n",
    "else:\n",
    "    print(\"Jubilado\")"
   ]
  }
 ],
 "metadata": {
  "interpreter": {
   "hash": "aee8b7b246df8f9039afb4144a1f6fd8d2ca17a180786b69acc140d282b71a49"
  },
  "kernelspec": {
   "display_name": "Python 3.9.10 64-bit",
   "language": "python",
   "name": "python3"
  },
  "language_info": {
   "codemirror_mode": {
    "name": "ipython",
    "version": 3
   },
   "file_extension": ".py",
   "mimetype": "text/x-python",
   "name": "python",
   "nbconvert_exporter": "python",
   "pygments_lexer": "ipython3",
   "version": "3.9.10"
  },
  "orig_nbformat": 4
 },
 "nbformat": 4,
 "nbformat_minor": 2
}
