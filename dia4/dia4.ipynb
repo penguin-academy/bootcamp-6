{
 "cells": [
  {
   "cell_type": "code",
   "execution_count": 1,
   "metadata": {},
   "outputs": [
    {
     "name": "stdout",
     "output_type": "stream",
     "text": [
      "hello world\n"
     ]
    }
   ],
   "source": [
    "print(\"hello world\")"
   ]
  },
  {
   "cell_type": "markdown",
   "metadata": {},
   "source": [
    "# Librerías"
   ]
  },
  {
   "cell_type": "markdown",
   "metadata": {},
   "source": [
    "## ¿Qué son las librerias?"
   ]
  },
  {
   "cell_type": "code",
   "execution_count": 41,
   "metadata": {},
   "outputs": [
    {
     "name": "stdout",
     "output_type": "stream",
     "text": [
      "6\n",
      "kiwis\n",
      "cantidad de elementos en la lista: 6\n",
      "fuego\n",
      "la palabra secreta es: peras\n"
     ]
    }
   ],
   "source": [
    "# Generar un numero aleatorio\n",
    "\n",
    "import random\n",
    "\n",
    "nro_random = random.randint(0, 10)\n",
    "\n",
    "print(nro_random)\n",
    "\n",
    "# obtener palabra Random\n",
    "lista_de_palabras = [\"serio\", \"peras\", \"kiwis\", \"cielo\", \"juego\", \"fuego\"]\n",
    "\n",
    "indice_random_palabras = random.randint(0, 4)\n",
    "\n",
    "palabra_sorteada = lista_de_palabras[indice_random_palabras]\n",
    "\n",
    "print(palabra_sorteada)\n",
    "\n",
    "# acceder a la cantidad de elementos\n",
    "cant_elementos = len(lista_de_palabras)\n",
    "print(\"cantidad de elementos en la lista:\", cant_elementos)\n",
    "\n",
    "print(lista_de_palabras[cant_elementos - 1])\n",
    "\n",
    "import random # llamada a la libreria\n",
    "\n",
    "# Generar palabra al azar segun cantidad de elementos\n",
    "lista_de_palabras = [\"serio\", \"peras\", \"kiwis\", \"cielo\", \"juego\", \"fuego\"]\n",
    "\n",
    "# paso 1: generar int random\n",
    "cant_elementos = len(lista_de_palabras)     # len() actualiza la cant de elementos\n",
    "indice_random = random.randint(0, cant_elementos - 1)\n",
    "\n",
    "# paso 2: acceder a la lista\n",
    "palabra_sorteada = lista_de_palabras[indice_random]\n",
    "\n",
    "# paso 3: imprimir\n",
    "print(\"la palabra secreta es:\", palabra_sorteada)\n"
   ]
  },
  {
   "cell_type": "markdown",
   "metadata": {},
   "source": [
    "### Ejercicio\n",
    "\n",
    "### Programa para adivinar un número."
   ]
  },
  {
   "cell_type": "code",
   "execution_count": null,
   "metadata": {},
   "outputs": [],
   "source": [
    "# Pedir un numero al usuario\n",
    "\n",
    "# crear un numero al azar entre 1 y 1000\n",
    "\n",
    "## Empieza el juego con While\n",
    "\n",
    "## preguntar si acertó o no\n",
    "### Si falló, decirle si es para arriba o para abajo\n",
    "\n",
    "## Termina despues de 5 intentos fallidos\n",
    "\n",
    "## pedir numero al usuario"
   ]
  },
  {
   "cell_type": "code",
   "execution_count": 56,
   "metadata": {},
   "outputs": [
    {
     "name": "stdout",
     "output_type": "stream",
     "text": [
      "nro_a_adivinar: 67\n",
      "equivocado. Elige un numero mas bajo\n",
      "equivocado. Elige un numero mas bajo\n",
      "equivocado. Elige un numero mas bajo\n",
      "equivocado. Elige un numero mas bajo\n",
      "equivocado. Elige un numero mas bajo\n",
      "El numero era: 67\n"
     ]
    }
   ],
   "source": [
    "def adivina_numero():\n",
    "    intentos = 5\n",
    "    nro_a_adivinar = random.randint(0, 100)\n",
    "    print(\"nro_a_adivinar:\", nro_a_adivinar)\n",
    "\n",
    "    while intentos > 0:\n",
    "        input_intento = input(\"Adivina el nro. Tienes {} intentos\".format(intentos))\n",
    "        input_intento = int(input_intento)\n",
    "        intentos = intentos - 1\n",
    "\n",
    "        if input_intento == nro_a_adivinar:\n",
    "            print(\"adivinaste\")\n",
    "            break\n",
    "        elif input_intento < nro_a_adivinar:\n",
    "            print(\"equivocado. Elige un numero mas alto\")\n",
    "        elif input_intento > nro_a_adivinar:\n",
    "            print(\"equivocado. Elige un numero mas bajo\")\n",
    "\n",
    "    print(\"El numero era:\", nro_a_adivinar)\n",
    "\n",
    "adivina_numero()"
   ]
  }
 ],
 "metadata": {
  "interpreter": {
   "hash": "916dbcbb3f70747c44a77c7bcd40155683ae19c65e1c03b4aa3499c5328201f1"
  },
  "kernelspec": {
   "display_name": "Python 3.8.10 64-bit",
   "language": "python",
   "name": "python3"
  },
  "language_info": {
   "codemirror_mode": {
    "name": "ipython",
    "version": 3
   },
   "file_extension": ".py",
   "mimetype": "text/x-python",
   "name": "python",
   "nbconvert_exporter": "python",
   "pygments_lexer": "ipython3",
   "version": "3.8.10"
  },
  "orig_nbformat": 4
 },
 "nbformat": 4,
 "nbformat_minor": 2
}
